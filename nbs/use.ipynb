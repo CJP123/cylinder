{
 "cells": [
  {
   "cell_type": "code",
   "execution_count": null,
   "metadata": {},
   "outputs": [],
   "source": []
  },
  {
   "cell_type": "code",
   "execution_count": 1,
   "metadata": {},
   "outputs": [],
   "source": [
    "import pandas as pd\n",
    "from cylinder.hwc import HWC\n",
    "from cylinder.demand import *\n",
    "import pandas as pd\t\n",
    "import numpy as np\n",
    "import matplotlib.pyplot as plt\n",
    "import random\n",
    "from pathlib import Path\n"
   ]
  },
  {
   "cell_type": "code",
   "execution_count": 2,
   "metadata": {},
   "outputs": [],
   "source": [
    "strategy =['Always on','Always on','Always on','Always on','Always on','Always on','Always on','Always on']\n",
    "bedrooms = [4,4,4,4,4,4,4,4]\n",
    "element = [3,3,3,3,3,3,3,3]\n",
    "tset_h = [0,75,75,75,75,75,75,75]\n",
    "tset_l = [60,60,60,60,60,60,60,60]\n",
    "ripple = ['No','No','Yes','Yes','No','No','Yes','Yes']"
   ]
  },
  {
   "cell_type": "code",
   "execution_count": 3,
   "metadata": {},
   "outputs": [
    {
     "data": {
      "text/html": [
       "<div>\n",
       "<style scoped>\n",
       "    .dataframe tbody tr th:only-of-type {\n",
       "        vertical-align: middle;\n",
       "    }\n",
       "\n",
       "    .dataframe tbody tr th {\n",
       "        vertical-align: top;\n",
       "    }\n",
       "\n",
       "    .dataframe thead th {\n",
       "        text-align: right;\n",
       "    }\n",
       "</style>\n",
       "<table border=\"1\" class=\"dataframe\">\n",
       "  <thead>\n",
       "    <tr style=\"text-align: right;\">\n",
       "      <th></th>\n",
       "      <th>0</th>\n",
       "      <th>1</th>\n",
       "      <th>2</th>\n",
       "      <th>3</th>\n",
       "      <th>4</th>\n",
       "      <th>5</th>\n",
       "      <th>6</th>\n",
       "      <th>7</th>\n",
       "    </tr>\n",
       "  </thead>\n",
       "  <tbody>\n",
       "    <tr>\n",
       "      <th>Control Strategy</th>\n",
       "      <td>Always on</td>\n",
       "      <td>Always on</td>\n",
       "      <td>Always on</td>\n",
       "      <td>Always on</td>\n",
       "      <td>Always on</td>\n",
       "      <td>Always on</td>\n",
       "      <td>Always on</td>\n",
       "      <td>Always on</td>\n",
       "    </tr>\n",
       "    <tr>\n",
       "      <th>Bedrooms</th>\n",
       "      <td>4</td>\n",
       "      <td>4</td>\n",
       "      <td>4</td>\n",
       "      <td>4</td>\n",
       "      <td>4</td>\n",
       "      <td>4</td>\n",
       "      <td>4</td>\n",
       "      <td>4</td>\n",
       "    </tr>\n",
       "    <tr>\n",
       "      <th>Element (kW)</th>\n",
       "      <td>3</td>\n",
       "      <td>3</td>\n",
       "      <td>3</td>\n",
       "      <td>3</td>\n",
       "      <td>3</td>\n",
       "      <td>3</td>\n",
       "      <td>3</td>\n",
       "      <td>3</td>\n",
       "    </tr>\n",
       "    <tr>\n",
       "      <th>Tset_H</th>\n",
       "      <td>0</td>\n",
       "      <td>75</td>\n",
       "      <td>75</td>\n",
       "      <td>75</td>\n",
       "      <td>75</td>\n",
       "      <td>75</td>\n",
       "      <td>75</td>\n",
       "      <td>75</td>\n",
       "    </tr>\n",
       "    <tr>\n",
       "      <th>Tset_L</th>\n",
       "      <td>60</td>\n",
       "      <td>60</td>\n",
       "      <td>60</td>\n",
       "      <td>60</td>\n",
       "      <td>60</td>\n",
       "      <td>60</td>\n",
       "      <td>60</td>\n",
       "      <td>60</td>\n",
       "    </tr>\n",
       "    <tr>\n",
       "      <th>Ripple Control</th>\n",
       "      <td>No</td>\n",
       "      <td>No</td>\n",
       "      <td>Yes</td>\n",
       "      <td>Yes</td>\n",
       "      <td>No</td>\n",
       "      <td>No</td>\n",
       "      <td>Yes</td>\n",
       "      <td>Yes</td>\n",
       "    </tr>\n",
       "  </tbody>\n",
       "</table>\n",
       "</div>"
      ],
      "text/plain": [
       "                          0          1          2          3          4  \\\n",
       "Control Strategy  Always on  Always on  Always on  Always on  Always on   \n",
       "Bedrooms                  4          4          4          4          4   \n",
       "Element (kW)              3          3          3          3          3   \n",
       "Tset_H                    0         75         75         75         75   \n",
       "Tset_L                   60         60         60         60         60   \n",
       "Ripple Control           No         No        Yes        Yes         No   \n",
       "\n",
       "                          5          6          7  \n",
       "Control Strategy  Always on  Always on  Always on  \n",
       "Bedrooms                  4          4          4  \n",
       "Element (kW)              3          3          3  \n",
       "Tset_H                   75         75         75  \n",
       "Tset_L                   60         60         60  \n",
       "Ripple Control           No        Yes        Yes  "
      ]
     },
     "execution_count": 3,
     "metadata": {},
     "output_type": "execute_result"
    }
   ],
   "source": [
    "pd.DataFrame({'Control Strategy':strategy,'Bedrooms':bedrooms,'Element (kW)':element,'Tset_H':tset_h,'Tset_L':tset_l,'Ripple Control':ripple}).T"
   ]
  },
  {
   "cell_type": "code",
   "execution_count": 7,
   "metadata": {},
   "outputs": [
    {
     "name": "stdout",
     "output_type": "stream",
     "text": [
      "[1 1]\n"
     ]
    },
    {
     "ename": "IndexError",
     "evalue": "invalid index to scalar variable.",
     "output_type": "error",
     "traceback": [
      "\u001b[0;31m---------------------------------------------------------------------------\u001b[0m",
      "\u001b[0;31mIndexError\u001b[0m                                Traceback (most recent call last)",
      "Cell \u001b[0;32mIn [7], line 17\u001b[0m\n\u001b[1;32m     15\u001b[0m         temp\u001b[39m.\u001b[39mappend(env\u001b[39m.\u001b[39mtemperatures)\n\u001b[1;32m     16\u001b[0m     \u001b[39mreturn\u001b[39;00m np\u001b[39m.\u001b[39mvstack(temp)\n\u001b[0;32m---> 17\u001b[0m simulation()\n\u001b[1;32m     18\u001b[0m fig, ax \u001b[39m=\u001b[39m plt\u001b[39m.\u001b[39msubplots(figsize\u001b[39m=\u001b[39m(\u001b[39m16\u001b[39m,\u001b[39m6\u001b[39m))\n\u001b[1;32m     19\u001b[0m ax\u001b[39m.\u001b[39mplot(temp)\n",
      "Cell \u001b[0;32mIn [7], line 9\u001b[0m, in \u001b[0;36msimulation\u001b[0;34m(strategy, bedrooms, element, tset_h, tset_l, ripple, steps)\u001b[0m\n\u001b[1;32m      7\u001b[0m \u001b[39mprint\u001b[39m(env\u001b[39m.\u001b[39mthermostat)\n\u001b[1;32m      8\u001b[0m \u001b[39mfor\u001b[39;00m i \u001b[39min\u001b[39;00m \u001b[39mrange\u001b[39m(steps):\n\u001b[0;32m----> 9\u001b[0m     env\u001b[39m.\u001b[39;49m_thermostat()\n\u001b[1;32m     10\u001b[0m     \u001b[39m# import pdb; pdb.set_trace()\u001b[39;00m\n\u001b[1;32m     11\u001b[0m     \u001b[39mif\u001b[39;00m env\u001b[39m.\u001b[39mthermostat[\u001b[39m1\u001b[39m] \u001b[39m==\u001b[39m \u001b[39m1\u001b[39m:\n",
      "File \u001b[0;32m/workspaces/cylinder/cylinder/hwc.py:199\u001b[0m, in \u001b[0;36m_thermostat\u001b[0;34m(self)\u001b[0m\n\u001b[1;32m    197\u001b[0m \u001b[39m\"\u001b[39m\u001b[39mThermostat state change\u001b[39m\u001b[39m\"\u001b[39m\n\u001b[1;32m    198\u001b[0m \u001b[39m# Nodal cylinder thermostat\u001b[39;00m\n\u001b[0;32m--> 199\u001b[0m \u001b[39mself\u001b[39m\u001b[39m.\u001b[39mthermostat[\u001b[39m0\u001b[39m] \u001b[39m=\u001b[39m \u001b[39m0\u001b[39m \u001b[39mif\u001b[39;00m \u001b[39mself\u001b[39;49m\u001b[39m.\u001b[39;49mtemperatures[\u001b[39mself\u001b[39;49m\u001b[39m.\u001b[39;49mnodes\u001b[39m-\u001b[39;49m\u001b[39m2\u001b[39;49m] \u001b[39m>\u001b[39m \u001b[39mself\u001b[39m\u001b[39m.\u001b[39mT_set \u001b[39melse\u001b[39;00m \u001b[39mself\u001b[39m\u001b[39m.\u001b[39mthermostat[\u001b[39m0\u001b[39m] \u001b[39m# Turn off if T > T_set\u001b[39;00m\n\u001b[1;32m    200\u001b[0m \u001b[39mself\u001b[39m\u001b[39m.\u001b[39mthermostat[\u001b[39m0\u001b[39m] \u001b[39m=\u001b[39m \u001b[39m1\u001b[39m \u001b[39mif\u001b[39;00m \u001b[39mself\u001b[39m\u001b[39m.\u001b[39mtemperatures[\u001b[39mself\u001b[39m\u001b[39m.\u001b[39mnodes\u001b[39m-\u001b[39m\u001b[39m2\u001b[39m] \u001b[39m<\u001b[39m \u001b[39mself\u001b[39m\u001b[39m.\u001b[39mT_set\u001b[39m-\u001b[39m \u001b[39mself\u001b[39m\u001b[39m.\u001b[39mT_deadband \u001b[39melse\u001b[39;00m \u001b[39mself\u001b[39m\u001b[39m.\u001b[39mthermostat[\u001b[39m0\u001b[39m] \u001b[39m# Turn on the element\u001b[39;00m\n\u001b[1;32m    201\u001b[0m \u001b[39m# Nodal cylinder thermostat\u001b[39;00m\n",
      "\u001b[0;31mIndexError\u001b[0m: invalid index to scalar variable."
     ]
    }
   ],
   "source": [
    "def simulation(strategy=None,bedrooms=4,element=3,tset_h=60,tset_l=60,ripple=False,steps=6):\n",
    "    env = HWC(T_set=tset_h, element=element, delta=100000, nodes=10, U=.8)\n",
    "    temp = []\n",
    "    flow = load_demand(path = Path('../data/drawprofiles'),bed=bedrooms,unit=3).to_frame()\n",
    "    if ripple:\n",
    "        flow = flow.rolling(window=10).mean()\n",
    "    print(env.thermostat)\n",
    "    for i in range(steps):\n",
    "        env._thermostat()\n",
    "        # import pdb; pdb.set_trace()\n",
    "        if env.thermostat[1] == 1:\n",
    "            action = 1\n",
    "\n",
    "        env._update_model(action = action , flow = 0, timestep_sec=60)\n",
    "        temp.append(env.temperatures)\n",
    "    return np.vstack(temp)\n",
    "simulation()\n",
    "fig, ax = plt.subplots(figsize=(16,6))\n",
    "ax.plot(temp)\n",
    "ax.plot(temp.mean(axis=1), lw=2, ls=':', c='blue')\n",
    "fig.suptitle(f'Passive Losses - No Heating + No Flow over {steps} minutes') "
   ]
  },
  {
   "cell_type": "code",
   "execution_count": 6,
   "metadata": {},
   "outputs": [
    {
     "ename": "NameError",
     "evalue": "name 'env' is not defined",
     "output_type": "error",
     "traceback": [
      "\u001b[0;31m---------------------------------------------------------------------------\u001b[0m",
      "\u001b[0;31mNameError\u001b[0m                                 Traceback (most recent call last)",
      "Cell \u001b[0;32mIn [6], line 1\u001b[0m\n\u001b[0;32m----> 1\u001b[0m env\u001b[39m.\u001b[39mtemperatures\n",
      "\u001b[0;31mNameError\u001b[0m: name 'env' is not defined"
     ]
    }
   ],
   "source": [
    "env.temperatures"
   ]
  },
  {
   "cell_type": "code",
   "execution_count": null,
   "metadata": {},
   "outputs": [],
   "source": []
  }
 ],
 "metadata": {
  "kernelspec": {
   "display_name": "Python 3",
   "language": "python",
   "name": "python3"
  },
  "language_info": {
   "codemirror_mode": {
    "name": "ipython",
    "version": 3
   },
   "file_extension": ".py",
   "mimetype": "text/x-python",
   "name": "python",
   "nbconvert_exporter": "python",
   "pygments_lexer": "ipython3",
   "version": "3.10.4"
  },
  "orig_nbformat": 4,
  "vscode": {
   "interpreter": {
    "hash": "3ad933181bd8a04b432d3370b9dc3b0662ad032c4dfaa4e4f1596c548f763858"
   }
  }
 },
 "nbformat": 4,
 "nbformat_minor": 2
}
