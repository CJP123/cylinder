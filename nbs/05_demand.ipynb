{
 "cells": [
  {
   "cell_type": "markdown",
   "metadata": {},
   "source": [
    "# Sample Demand Profile\n",
    "\n",
    "> US Domestic Hot Water 1 minute Draw Profiles\n",
    "\n",
    "https://github.com/jmaguire1/WaterHeaterPythonModel/tree/master/data_files/DrawProfiles"
   ]
  },
  {
   "cell_type": "code",
   "execution_count": 1,
   "metadata": {},
   "outputs": [],
   "source": [
    "#| default_exp demand"
   ]
  },
  {
   "cell_type": "code",
   "execution_count": null,
   "metadata": {},
   "outputs": [],
   "source": [
    "#| hide\n",
    "from nbdev.showdoc import *"
   ]
  },
  {
   "cell_type": "code",
   "execution_count": 1,
   "metadata": {},
   "outputs": [],
   "source": [
    "#| export\n",
    "import pandas as pd\t\n",
    "import numpy as np\n",
    "import random"
   ]
  },
  {
   "cell_type": "code",
   "execution_count": 2,
   "metadata": {},
   "outputs": [],
   "source": [
    "#| export\n",
    "def load_demand(bed=1,unit=1):\n",
    "    if not (bed in [1, 2, 3, 4, 5]) and (unit in [0, 1, 2, 3, 4, 5, 6, 7, 8, 9]):\n",
    "        print('Not valid bed / unit choice')\n",
    "        return pd.DataFrame()\n",
    "    base = pd.read_csv('../data/drawprofiles/MinuteDrawProfilesMaxFlows.csv')\n",
    "    df = pd.read_csv(f'../data/drawprofiles/DHWDrawSchedule_{bed}bed_unit{unit}_1min_fraction.csv')\n",
    "    df = df.fillna(0)\n",
    "    '''\n",
    "    Translate between the BEOpt Data\n",
    "    see https://github.com/jmaguire1/WaterHeaterPythonModel/blob/01f8a3c88096c9cbdbb49c354405d65fb37c2d7e/WH_control_fleet.py\n",
    "    '''\n",
    "    sh_hsp_tot = 14.0 + 4.67 * bed\n",
    "    s_hsp_tot = 12.5 + 4.16 * bed\n",
    "    cw_hsp_tot = 2.35 + 0.78 * bed\n",
    "    dw_hsp_tot = 2.26 + 0.75 * bed\n",
    "    b_hsp_tot = 3.50 + 1.17 * bed\n",
    "    df.Showers =  base.loc[((base.Bedrooms == bed) & (base.Unit== unit)),'Showers Max'].values[0] * df.Showers * \\\n",
    "                    sh_hsp_tot / base.loc[((base.Bedrooms == bed) & (base.Unit== unit)),'Showers Sum'].values[0]\n",
    "    df.Sinks =  base.loc[((base.Bedrooms == bed) & (base.Unit== unit)),'Sinks Max'].values[0] * df.Sinks * \\\n",
    "                    s_hsp_tot / base.loc[((base.Bedrooms == bed) & (base.Unit== unit)),'Sinks Sum'].values[0]\n",
    "    df.CW =  base.loc[((base.Bedrooms == bed) & (base.Unit== unit)),'CW Max'].values[0] * df.CW * \\\n",
    "                    cw_hsp_tot / base.loc[((base.Bedrooms == bed) & (base.Unit== unit)),'CW Sum'].values[0]\n",
    "    df.DW =  base.loc[((base.Bedrooms == bed) & (base.Unit== unit)),'DW Max'].values[0] * df.DW * \\\n",
    "                    dw_hsp_tot / base.loc[((base.Bedrooms == bed) & (base.Unit== unit)),'DW Sum'].values[0]\n",
    "    df.Baths =  base.loc[((base.Bedrooms == bed) & (base.Unit== unit)),'Baths Max'].values[0] * df.Baths * \\\n",
    "                    b_hsp_tot / base.loc[((base.Bedrooms == bed) & (base.Unit== unit)),'Baths Sum'].values[0]\n",
    "    # The flows can be split into hot and warm if more granular detail is required\n",
    "    df = df * 3.785411784 # convert from US GPM to lpm\n",
    "    df['total_lpm'] = df.sum(axis=1)\n",
    "    df['total_m3s'] = df.total_lpm/60000 * 45 / 60\n",
    "    df[f'{bed}_{unit}'] = df.total_m3s\n",
    "    df['timestamp'] = pd.date_range(start='1/1/2020', periods=len(df), freq='60S')\n",
    "    df = df.set_index('timestamp')\n",
    "    \n",
    "\n",
    "    return df[f'{bed}_{unit}']"
   ]
  },
  {
   "cell_type": "code",
   "execution_count": 5,
   "metadata": {},
   "outputs": [
    {
     "ename": "",
     "evalue": "",
     "output_type": "error",
     "traceback": [
      "\u001b[1;31mCanceled future for execute_request message before replies were done"
     ]
    },
    {
     "ename": "",
     "evalue": "",
     "output_type": "error",
     "traceback": [
      "\u001b[1;31mThe Kernel crashed while executing code in the the current cell or a previous cell. Please review the code in the cell(s) to identify a possible cause of the failure. Click <a href='https://aka.ms/vscodeJupyterKernelCrash'>here</a> for more info. View Jupyter <a href='command:jupyter.viewOutput'>log</a> for further details."
     ]
    }
   ],
   "source": [
    "#| export\n",
    "# flow = pd.concat([load_demand(bed=b,unit=u) for u in range(10) for b in range(1,6)], axis=1)"
   ]
  },
  {
   "cell_type": "code",
   "execution_count": 4,
   "metadata": {},
   "outputs": [
    {
     "data": {
      "text/plain": [
       "timestamp\n",
       "2020-01-01 00:00:00    0.0\n",
       "2020-01-01 00:01:00    0.0\n",
       "2020-01-01 00:02:00    0.0\n",
       "2020-01-01 00:03:00    0.0\n",
       "2020-01-01 00:04:00    0.0\n",
       "                      ... \n",
       "2020-12-30 23:55:00    0.0\n",
       "2020-12-30 23:56:00    0.0\n",
       "2020-12-30 23:57:00    0.0\n",
       "2020-12-30 23:58:00    0.0\n",
       "2020-12-30 23:59:00    0.0\n",
       "Name: 2_3, Length: 525600, dtype: float64"
      ]
     },
     "execution_count": 4,
     "metadata": {},
     "output_type": "execute_result"
    }
   ],
   "source": [
    "flow= load_demand(bed=2,unit=3)\n",
    "flow"
   ]
  },
  {
   "cell_type": "markdown",
   "metadata": {},
   "source": [
    "Other potential demand profiles\n",
    "https://uknowledge.uky.edu/cgi/viewcontent.cgi?article=1082&context=bae_etds"
   ]
  },
  {
   "cell_type": "code",
   "execution_count": null,
   "metadata": {},
   "outputs": [],
   "source": [
    "#| hide\n",
    "import nbdev; nbdev.nbdev_export()"
   ]
  }
 ],
 "metadata": {
  "kernelspec": {
   "display_name": "Python 3.10.4 64-bit",
   "language": "python",
   "name": "python3"
  },
  "language_info": {
   "codemirror_mode": {
    "name": "ipython",
    "version": 3
   },
   "file_extension": ".py",
   "mimetype": "text/x-python",
   "name": "python",
   "nbconvert_exporter": "python",
   "pygments_lexer": "ipython3",
   "version": "3.10.4"
  },
  "vscode": {
   "interpreter": {
    "hash": "3ad933181bd8a04b432d3370b9dc3b0662ad032c4dfaa4e4f1596c548f763858"
   }
  }
 },
 "nbformat": 4,
 "nbformat_minor": 4
}
