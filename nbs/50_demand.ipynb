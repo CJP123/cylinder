{
 "cells": [
  {
   "cell_type": "raw",
   "metadata": {},
   "source": [
    "---\n",
    "description: US Domestic Hot Water 1 minute Draw Profiles\n",
    "output-file: demand.html\n",
    "title: Sample Demand Profile\n",
    "\n",
    "---"
   ]
  },
  {
   "cell_type": "markdown",
   "metadata": {},
   "source": [
    "There are some 1 minute draw profiles for US domestic hot water.  The data is from the BEopt. The data requires some cleaning and processing.  This data is used to provide input into the model."
   ]
  },
  {
   "cell_type": "code",
   "execution_count": null,
   "metadata": {},
   "outputs": [],
   "source": [
    "#| default_exp demand"
   ]
  },
  {
   "cell_type": "code",
   "execution_count": 5,
   "metadata": {},
   "outputs": [],
   "source": [
    "#| hide\n",
    "from nbdev.showdoc import *"
   ]
  },
  {
   "cell_type": "code",
   "execution_count": 6,
   "metadata": {},
   "outputs": [],
   "source": [
    "#| export\n",
    "import pandas as pd\t\n",
    "import numpy as np\n",
    "import matplotlib.pyplot as plt\n",
    "import random\n",
    "from pathlib import Path"
   ]
  },
  {
   "cell_type": "code",
   "execution_count": 7,
   "metadata": {},
   "outputs": [],
   "source": [
    "#| export\n",
    "def load_demand(path = None , bed=1,unit=1):\n",
    "    if not (bed in [1, 2, 3, 4, 5]) and (unit in [0, 1, 2, 3, 4, 5, 6, 7, 8, 9]):\n",
    "        print('Not valid bed / unit choice')\n",
    "        return pd.DataFrame()\n",
    "    base = pd.read_csv(path/'MinuteDrawProfilesMaxFlows.csv')\n",
    "    df = pd.read_csv(path/f'DHWDrawSchedule_{bed}bed_unit{unit}_1min_fraction.csv')\n",
    "    df = df.fillna(0)\n",
    "    '''\n",
    "    Translate between the BEOpt Data\n",
    "    see https://github.com/jmaguire1/WaterHeaterPythonModel/blob/01f8a3c88096c9cbdbb49c354405d65fb37c2d7e/WH_control_fleet.py\n",
    "    '''\n",
    "    sh_hsp_tot = 14.0 + 4.67 * bed\n",
    "    s_hsp_tot = 12.5 + 4.16 * bed\n",
    "    cw_hsp_tot = 2.35 + 0.78 * bed\n",
    "    dw_hsp_tot = 2.26 + 0.75 * bed\n",
    "    b_hsp_tot = 3.50 + 1.17 * bed\n",
    "    df.Showers =  base.loc[((base.Bedrooms == bed) & (base.Unit== unit)),'Showers Max'].values[0] * df.Showers * \\\n",
    "                    sh_hsp_tot / base.loc[((base.Bedrooms == bed) & (base.Unit== unit)),'Showers Sum'].values[0]\n",
    "    df.Sinks =  base.loc[((base.Bedrooms == bed) & (base.Unit== unit)),'Sinks Max'].values[0] * df.Sinks * \\\n",
    "                    s_hsp_tot / base.loc[((base.Bedrooms == bed) & (base.Unit== unit)),'Sinks Sum'].values[0]\n",
    "    df.CW =  base.loc[((base.Bedrooms == bed) & (base.Unit== unit)),'CW Max'].values[0] * df.CW * \\\n",
    "                    cw_hsp_tot / base.loc[((base.Bedrooms == bed) & (base.Unit== unit)),'CW Sum'].values[0]\n",
    "    df.DW =  base.loc[((base.Bedrooms == bed) & (base.Unit== unit)),'DW Max'].values[0] * df.DW * \\\n",
    "                    dw_hsp_tot / base.loc[((base.Bedrooms == bed) & (base.Unit== unit)),'DW Sum'].values[0]\n",
    "    df.Baths =  base.loc[((base.Bedrooms == bed) & (base.Unit== unit)),'Baths Max'].values[0] * df.Baths * \\\n",
    "                    b_hsp_tot / base.loc[((base.Bedrooms == bed) & (base.Unit== unit)),'Baths Sum'].values[0]\n",
    "    # The flows can be split into hot and warm if more granular detail is required\n",
    "    df = df * 3.785411784 # convert from US GPM to lpm\n",
    "    df['total_lpm'] = df.sum(axis=1)\n",
    "    df['total_m3s'] = df.total_lpm/60000\n",
    "    df[f'flow'] = df.total_m3s\n",
    "    df['timestamp'] = pd.date_range(start='1/1/2020', periods=len(df), freq='60S')\n",
    "    df = df.set_index('timestamp')\n",
    "    return df"
   ]
  },
  {
   "cell_type": "code",
   "execution_count": 8,
   "metadata": {},
   "outputs": [
    {
     "data": {
      "text/html": [
       "<div>\n",
       "<style scoped>\n",
       "    .dataframe tbody tr th:only-of-type {\n",
       "        vertical-align: middle;\n",
       "    }\n",
       "\n",
       "    .dataframe tbody tr th {\n",
       "        vertical-align: top;\n",
       "    }\n",
       "\n",
       "    .dataframe thead th {\n",
       "        text-align: right;\n",
       "    }\n",
       "</style>\n",
       "<table border=\"1\" class=\"dataframe\">\n",
       "  <thead>\n",
       "    <tr style=\"text-align: right;\">\n",
       "      <th></th>\n",
       "      <th>Showers</th>\n",
       "      <th>Sinks</th>\n",
       "      <th>CW</th>\n",
       "      <th>DW</th>\n",
       "      <th>Baths</th>\n",
       "      <th>total_lpm</th>\n",
       "      <th>total_m3s</th>\n",
       "      <th>flow</th>\n",
       "    </tr>\n",
       "    <tr>\n",
       "      <th>timestamp</th>\n",
       "      <th></th>\n",
       "      <th></th>\n",
       "      <th></th>\n",
       "      <th></th>\n",
       "      <th></th>\n",
       "      <th></th>\n",
       "      <th></th>\n",
       "      <th></th>\n",
       "    </tr>\n",
       "  </thead>\n",
       "  <tbody>\n",
       "    <tr>\n",
       "      <th>2020-01-01 00:00:00</th>\n",
       "      <td>0.0</td>\n",
       "      <td>0.0</td>\n",
       "      <td>0.0</td>\n",
       "      <td>0.0</td>\n",
       "      <td>0.0</td>\n",
       "      <td>0.0</td>\n",
       "      <td>0.0</td>\n",
       "      <td>0.0</td>\n",
       "    </tr>\n",
       "    <tr>\n",
       "      <th>2020-01-01 00:01:00</th>\n",
       "      <td>0.0</td>\n",
       "      <td>0.0</td>\n",
       "      <td>0.0</td>\n",
       "      <td>0.0</td>\n",
       "      <td>0.0</td>\n",
       "      <td>0.0</td>\n",
       "      <td>0.0</td>\n",
       "      <td>0.0</td>\n",
       "    </tr>\n",
       "    <tr>\n",
       "      <th>2020-01-01 00:02:00</th>\n",
       "      <td>0.0</td>\n",
       "      <td>0.0</td>\n",
       "      <td>0.0</td>\n",
       "      <td>0.0</td>\n",
       "      <td>0.0</td>\n",
       "      <td>0.0</td>\n",
       "      <td>0.0</td>\n",
       "      <td>0.0</td>\n",
       "    </tr>\n",
       "    <tr>\n",
       "      <th>2020-01-01 00:03:00</th>\n",
       "      <td>0.0</td>\n",
       "      <td>0.0</td>\n",
       "      <td>0.0</td>\n",
       "      <td>0.0</td>\n",
       "      <td>0.0</td>\n",
       "      <td>0.0</td>\n",
       "      <td>0.0</td>\n",
       "      <td>0.0</td>\n",
       "    </tr>\n",
       "    <tr>\n",
       "      <th>2020-01-01 00:04:00</th>\n",
       "      <td>0.0</td>\n",
       "      <td>0.0</td>\n",
       "      <td>0.0</td>\n",
       "      <td>0.0</td>\n",
       "      <td>0.0</td>\n",
       "      <td>0.0</td>\n",
       "      <td>0.0</td>\n",
       "      <td>0.0</td>\n",
       "    </tr>\n",
       "  </tbody>\n",
       "</table>\n",
       "</div>"
      ],
      "text/plain": [
       "                     Showers  Sinks   CW   DW  Baths  total_lpm  total_m3s  \\\n",
       "timestamp                                                                    \n",
       "2020-01-01 00:00:00      0.0    0.0  0.0  0.0    0.0        0.0        0.0   \n",
       "2020-01-01 00:01:00      0.0    0.0  0.0  0.0    0.0        0.0        0.0   \n",
       "2020-01-01 00:02:00      0.0    0.0  0.0  0.0    0.0        0.0        0.0   \n",
       "2020-01-01 00:03:00      0.0    0.0  0.0  0.0    0.0        0.0        0.0   \n",
       "2020-01-01 00:04:00      0.0    0.0  0.0  0.0    0.0        0.0        0.0   \n",
       "\n",
       "                     flow  \n",
       "timestamp                  \n",
       "2020-01-01 00:00:00   0.0  \n",
       "2020-01-01 00:01:00   0.0  \n",
       "2020-01-01 00:02:00   0.0  \n",
       "2020-01-01 00:03:00   0.0  \n",
       "2020-01-01 00:04:00   0.0  "
      ]
     },
     "execution_count": 8,
     "metadata": {},
     "output_type": "execute_result"
    }
   ],
   "source": [
    "flow = load_demand(path = Path('../data/drawprofiles'),\n",
    "                      bed=4,\n",
    "                      unit=3)\n",
    "flow.head()"
   ]
  },
  {
   "cell_type": "markdown",
   "metadata": {},
   "source": [
    "Look at one days worth of data for the chosen unit and number of bedrooms."
   ]
  },
  {
   "cell_type": "code",
   "execution_count": 9,
   "metadata": {},
   "outputs": [],
   "source": [
    "# fig, ax = plt.subplots(figsize=(12,6))\n",
    "# ax.plot(flow['2020-01-01'])\n",
    "# ax.set_ylabel('Flow (m3/s)')\n",
    "# ax.set_xlabel('Time')\n",
    "# ax.set_title('Flow for 2 bed 3 unit')"
   ]
  },
  {
   "cell_type": "code",
   "execution_count": 10,
   "metadata": {},
   "outputs": [
    {
     "data": {
      "text/plain": [
       "<matplotlib.colorbar.Colorbar at 0x7ff8af555ba0>"
      ]
     },
     "execution_count": 10,
     "metadata": {},
     "output_type": "execute_result"
    },
    {
     "data": {
      "image/png": "[encoded data removed]",
      "text/plain": [
       "<Figure size 1600x600 with 2 Axes>"
      ]
     },
     "metadata": {},
     "output_type": "display_data"
    }
   ],
   "source": [
    "fig, ax = plt.subplots(figsize=(16,6))\n",
    "\n",
    "ax.imshow(flow.groupby([flow.index.hour, flow.index.day_of_week])['flow'].mean().unstack().T*3600, cmap='hot', interpolation='nearest')\n",
    "ax.set_xlabel('Hour of Day')\n",
    "ax.set_ylabel('Day of Week')\n",
    "fig.suptitle('Average Flow')\n",
    "# add colorbar\n",
    "fig.colorbar(ax.get_images()[0], ax=ax)"
   ]
  },
  {
   "cell_type": "code",
   "execution_count": 11,
   "metadata": {},
   "outputs": [],
   "source": [
    "#| hide\n",
    "import nbdev; nbdev.nbdev_export()"
   ]
  },
  {
   "cell_type": "code",
   "execution_count": null,
   "metadata": {},
   "outputs": [],
   "source": []
  }
 ],
 "metadata": {
  "kernelspec": {
   "display_name": "Python 3",
   "language": "python",
   "name": "python3"
  },
  "language_info": {
   "codemirror_mode": {
    "name": "ipython",
    "version": 3
   },
   "file_extension": ".py",
   "mimetype": "text/x-python",
   "name": "python",
   "nbconvert_exporter": "python",
   "pygments_lexer": "ipython3",
   "version": "3.10.4"
  },
  "vscode": {
   "interpreter": {
    "hash": "3ad933181bd8a04b432d3370b9dc3b0662ad032c4dfaa4e4f1596c548f763858"
   }
  }
 },
 "nbformat": 4,
 "nbformat_minor": 4
}
