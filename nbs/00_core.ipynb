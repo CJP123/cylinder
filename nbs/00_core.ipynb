{
 "cells": [
  {
   "cell_type": "markdown",
   "metadata": {},
   "source": [
    "# Basic Mixed Hot Water Cylinder\n",
    "\n",
    "> Simple (fast to run) model of a mixed hot water cylinder"
   ]
  },
  {
   "cell_type": "code",
   "execution_count": null,
   "metadata": {},
   "outputs": [],
   "source": [
    "#| default_exp core"
   ]
  },
  {
   "cell_type": "code",
   "execution_count": 1,
   "metadata": {},
   "outputs": [],
   "source": [
    "#| hide\n",
    "from nbdev.showdoc import *"
   ]
  },
  {
   "cell_type": "code",
   "execution_count": 1,
   "metadata": {},
   "outputs": [
    {
     "ename": "ModuleNotFoundError",
     "evalue": "No module named 'cylinder'",
     "output_type": "error",
     "traceback": [
      "\u001b[0;31m---------------------------------------------------------------------------\u001b[0m",
      "\u001b[0;31mModuleNotFoundError\u001b[0m                       Traceback (most recent call last)",
      "Cell \u001b[0;32mIn [1], line 4\u001b[0m\n\u001b[1;32m      2\u001b[0m \u001b[39mfrom\u001b[39;00m \u001b[39mfastcore\u001b[39;00m\u001b[39m.\u001b[39;00m\u001b[39mutils\u001b[39;00m \u001b[39mimport\u001b[39;00m \u001b[39m*\u001b[39m\n\u001b[1;32m      3\u001b[0m \u001b[39mimport\u001b[39;00m \u001b[39mpandas\u001b[39;00m \u001b[39mas\u001b[39;00m \u001b[39mpd\u001b[39;00m\n\u001b[0;32m----> 4\u001b[0m \u001b[39mfrom\u001b[39;00m \u001b[39mcylinder\u001b[39;00m\u001b[39m.\u001b[39;00m\u001b[39mdemand\u001b[39;00m \u001b[39mimport\u001b[39;00m \u001b[39m*\u001b[39m\n\u001b[1;32m      5\u001b[0m \u001b[39mfrom\u001b[39;00m \u001b[39mcylinder\u001b[39;00m\u001b[39m.\u001b[39;00m\u001b[39mpower\u001b[39;00m \u001b[39mimport\u001b[39;00m \u001b[39m*\u001b[39m\n\u001b[1;32m      6\u001b[0m \u001b[39mimport\u001b[39;00m \u001b[39mmatplotlib\u001b[39;00m\u001b[39m.\u001b[39;00m\u001b[39mpyplot\u001b[39;00m \u001b[39mas\u001b[39;00m \u001b[39mplt\u001b[39;00m\n",
      "\u001b[0;31mModuleNotFoundError\u001b[0m: No module named 'cylinder'"
     ]
    }
   ],
   "source": [
    "#| export\n",
    "from fastcore.utils import *\n",
    "import pandas as pd\n",
    "from cylinder.demand import *\n",
    "from cylinder.power import *\n",
    "import matplotlib.pyplot as plt\n",
    "import random\n",
    "from collections import deque\n",
    "import numpy as np"
   ]
  },
  {
   "cell_type": "code",
   "execution_count": 3,
   "metadata": {},
   "outputs": [
    {
     "ename": "NameError",
     "evalue": "name 'gym' is not defined",
     "output_type": "error",
     "traceback": [
      "\u001b[0;31m---------------------------------------------------------------------------\u001b[0m",
      "\u001b[0;31mNameError\u001b[0m                                 Traceback (most recent call last)",
      "Cell \u001b[0;32mIn [3], line 1\u001b[0m\n\u001b[0;32m----> 1\u001b[0m \u001b[39mclass\u001b[39;00m \u001b[39mHWC\u001b[39;00m(gym\u001b[39m.\u001b[39mEnv):\n\u001b[1;32m      2\u001b[0m   \u001b[39m\"\"\"\u001b[39;00m\n\u001b[1;32m      3\u001b[0m \u001b[39m  Custom Environment that follows gym interface.\u001b[39;00m\n\u001b[1;32m      4\u001b[0m \u001b[39m  This is a simple env where the agent must learn to go always left. \u001b[39;00m\n\u001b[1;32m      5\u001b[0m \u001b[39m  \"\"\"\u001b[39;00m\n\u001b[1;32m      6\u001b[0m   \u001b[39m# Because of google colab, we cannot implement the GUI ('human' render mode)\u001b[39;00m\n",
      "\u001b[0;31mNameError\u001b[0m: name 'gym' is not defined"
     ]
    }
   ],
   "source": [
    "class HWC():\n",
    "  \"\"\"\n",
    "  Simple mixed model for a hot water cylinder\n",
    "  \"\"\"\n",
    "  # Define constants for clearer code\n",
    "  def __init__(self,\n",
    "              element = 3000, # Watts\n",
    "              T_set = 65, # °C\n",
    "              T_deadband = 2, # °C\n",
    "              radius =.25,  # Meters\n",
    "              height = 1, # Meters\n",
    "              unit=None,  # Unit of measure for volume\n",
    "              bedrooms=None,\n",
    "              rtp = None,\n",
    "              id = None):\n",
    "    super(HWC, self).__init__()\n",
    "\n",
    "    self.T_ambient = 15 #  Air temperature that the cylinder located in °C\n",
    "    self.T_cold = 15 # Make up water temperature °C\n",
    "    self.T_demand = 45 #T_demand - temperature of the end use (shower)  °C\n",
    "    self.T_deadband = T_deadband #T_deadband  - thermostat deadband °C\n",
    "    self.T_set = T_set #T_set - thermostat set point °C\n",
    "    # self.T_std = 45\n",
    "    self.U = 0.5/60/1000 \n",
    "    self.Cv = 4.184 \n",
    "    self.rho = 1000 \n",
    "    self.Area = 2*np.pi*radius*(radius+height)\n",
    "    self.Volume = np.pi*radius**2*height\n",
    "    # self.unit = random.choice(range(10)) if unit is None else unit\n",
    "    # self.bedrooms = random.choice(range(5))+1 if bedrooms is None else bedrooms\n",
    "    self.Q = element/1000\n",
    "    self.T_stat = False\n",
    "    self.rtp = rtp\n",
    "    self.id = id\n",
    "    # self.thermogram = np.ones([7,24])*.5\n",
    "    self.alpha = 0.01\n",
    "    self.action_space = spaces.Discrete(2)\n",
    "    self.observation_space = spaces.Box(low=-1, \n",
    "                                        high=1, \n",
    "                                        shape=(5,), \n",
    "                                        dtype=np.float32)\n",
    "    self.current_step = 0\n",
    "\n",
    "      # spaces.Box(low=0, high=255,\n",
    "      #                                   shape=(N_CHANNELS, HEIGHT, WIDTH), \n",
    "      #                                   dtype=np.uint8)"
   ]
  },
  {
   "cell_type": "code",
   "execution_count": 4,
   "metadata": {},
   "outputs": [
    {
     "ename": "NameError",
     "evalue": "name 'HWC' is not defined",
     "output_type": "error",
     "traceback": [
      "\u001b[0;31m---------------------------------------------------------------------------\u001b[0m",
      "\u001b[0;31mNameError\u001b[0m                                 Traceback (most recent call last)",
      "Cell \u001b[0;32mIn [4], line 2\u001b[0m\n\u001b[1;32m      1\u001b[0m \u001b[39m@patch\u001b[39m\n\u001b[0;32m----> 2\u001b[0m \u001b[39mdef\u001b[39;00m \u001b[39mstep\u001b[39m(\u001b[39mself\u001b[39m:HWC, action):\n\u001b[1;32m      3\u001b[0m     \u001b[39mself\u001b[39m\u001b[39m.\u001b[39m_thermostat()\n\u001b[1;32m      4\u001b[0m     \u001b[39mself\u001b[39m\u001b[39m.\u001b[39maction \u001b[39m=\u001b[39m action\n",
      "\u001b[0;31mNameError\u001b[0m: name 'HWC' is not defined"
     ]
    }
   ],
   "source": [
    "@patch\n",
    "def step(self:HWC, action):\n",
    "    self._thermostat()\n",
    "    self.action = action\n",
    "    if action == 1:\n",
    "        self.last_power = self.current_step\n",
    "    # print(action)\n",
    "    # import pdb; pdb.set_trace()\n",
    "    flow = self.flow_df.iloc[self.current_step]\n",
    "    self.flow = flow*(self.T_demand-self.T_cold)/(self.T-self.T_cold)\n",
    "    self.T  = self._update()\n",
    "\n",
    "    r,c = self.rtp.iloc[self.current_step].name.dayofweek, self.rtp.iloc[self.current_step].name.hour\n",
    "    self.thermogram[r,c] = self.T_stat * self.action * self.Q /60 +self.thermogram[r,c]*(1- self.alpha)\n",
    "    self.power_hist.append(self.T_stat * self.action * self.Q /60)\n",
    "    # self.T_history.append(self.T)\n",
    "    # self.history.append([self.id,\n",
    "    #                      self.df.iloc[self.current_step].name.hour,\n",
    "    #                      self.df.iloc[self.current_step].name,\n",
    "    #                      action*self.T_stat,\n",
    "    #                      self.T,\n",
    "    #                      self.flow])\n",
    "    # reward, done = self._get_reward()\n",
    "    self.current_step += 1\n",
    "\n",
    "    # Are we at the left of the grid?\n",
    "    done = False\n",
    "    # Null reward everywhere except when reaching the goal (left of the grid)\n",
    "    reward = self._time_reward(self.time_since_full,2)\n",
    "    # reward += self._time_reward((self.current_step-self.last_power),40)\n",
    "    # print(self.time_since_full,1-self.time_since_full/30)\n",
    "    # reward += np.array(self.cost_hist).sum()/6\n",
    "    # reward += 5*self._power_reward(self.diff)\n",
    "    # reward = 0\n",
    "    reward += 2*self.rtp.iloc[self.current_step].price_indicator*self.action\n",
    "    # reward = self._power_reward(self.rtp.iloc[self.current_step].cost*self.action)\n",
    "    # print(reward,(self.current_step-self.last_power),self._time_reward(self.time_since_full),self._power_reward(self.diff),2*self._cost_reward(self.rtp.iloc[self.current_step].cost)*self.action)\n",
    "    # print(reward,self.diff)\n",
    "    # reward -= .05*(self.T_set - self.T)\n",
    "    # print(reward)\n",
    "    if self.T <= 50:\n",
    "        done = True\n",
    "        reward = -100\n",
    "    # done = False if self.T >= 45 else True    # Optionally we can pass additional info, we are not using that for now\n",
    "    # done = False if self.current_step <= 60*24*20 else True    # Optionally we can pass additional info, we are not using that for now\n",
    "\n",
    "    info = self._get_info()\n",
    "    observation = self._get_observation()\n",
    "    return observation, reward, done, info\n",
    "\n",
    "@patch\n",
    "def _thermostat(self:HWC):\n",
    "    if (self.T < self.T_set- self.T_deadband) :\n",
    "        self.T_stat = 1\n",
    "        # print(self.current_step, 't on')\n",
    "    elif (self.T > self.T_set) :\n",
    "        self.T_stat = 0\n",
    "        self.full_charge = self.current_step\n",
    "        # print(self.current_step, 't off')\n",
    "\n",
    "    return \n",
    "\n",
    "@patch\n",
    "def _power_reward(self:HWC,x): return .5-pow(x/5,2)\n",
    "@patch\n",
    "def _time_reward(self:HWC,x, b=2): return -pow(x/b,2) #return 2 - 1.5**(x/120)\n",
    "@patch\n",
    "def _cost_reward(self:HWC,x): return .1-np.exp(-30*x)#2 - 1.5**(x)\n",
    "@patch\n",
    "def _update(self:HWC, ts = 60):\n",
    "    # if self.T_stat * self.action == 1 :\n",
    "    #     print(self.action,'heating') \n",
    "    return self.T + \\\n",
    "           self.flow/self.Volume*(self.T_cold-self.T) * ts + \\\n",
    "           self.T_stat * self.action * self.Q / (self.Cv*self.rho*self.Volume) * ts - \\\n",
    "           (self.U*self.Area)/(self.Cv*self.rho*self.Volume)*(self.T-self.T_ambient) * ts\n",
    "\n",
    "@patch\n",
    "def _get_info(self:HWC):\n",
    "    return {\n",
    "        \"temperature\": self.T\n",
    "    }\n",
    "\n",
    "@patch\n",
    "def _get_observation(self:HWC):\n",
    "    d,h = self.rtp.iloc[self.current_step].name.dayofweek, self.rtp.iloc[self.current_step].name.hour\n",
    "    load_hist = np.roll(self.thermogram.flatten(), -(d*24+h+3))[-12:]\n",
    "    self.recent_hist = np.array([np.array(self.power_hist)[i:i+60].sum() for i in range(0, len(self.power_hist), 60)][::-1])\n",
    "    last_power = self.current_step-self.last_power\n",
    "    self.diff = self.recent_hist.sum()- load_hist.sum()\n",
    "\n",
    "    # print(recent_hist, load_hist, self.diff)\n",
    "    self.time_since_full = (self.current_step - self.full_charge)/(60)\n",
    "    \n",
    "    if self.current_step == 0.:\n",
    "        thermo_info = int(self.T_stat)\n",
    "    elif self.action == 1.:\n",
    "        thermo_info = int(self.T_stat)\n",
    "    else: \n",
    "        thermo_info = -1. #no information\n",
    "\n",
    "    # print(thermo_info)\n",
    "    # np.array(self.thermo_hist) # action = 1 and thermostat = 1 / action = 0 and no thermostat feedback / action = 1 and thermostat = 0\n",
    "    obs = np.concatenate((np.array(thermo_info),\n",
    "    self.time_since_full,\n",
    "    self.diff,\n",
    "    last_power/60,\n",
    "                        #   load_hist,\n",
    "                        #  recent_hist,\n",
    "                          np.array(self.rtp.iloc[self.current_step]['n_cost'],self.rtp.iloc[self.current_step]['price_indicator'])), \n",
    "                          axis=None, \n",
    "                          dtype=np.float32)\n",
    "    print(obs)\n",
    "    # for i in range(6):\n",
    "    #     self.thermo_hist.append(self.T_stat)\n",
    "    #     self.cost_hist.append(self.T_stat*self.Q)\n",
    "    # print(np.array([xi for xi in bb]))\n",
    "    return obs\n",
    "    # return {\"temperature\": self.T,\n",
    "    #         \"thermostat\": self.T_stat}\n",
    "\n",
    "@patch\n",
    "def reset(self:HWC):\n",
    "    self.power_hist = deque(np.ones(60*12)*.5/60,maxlen=60*12)\n",
    "\n",
    "    self.action = 0\n",
    "    self.last_power = 0\n",
    "    self.T = self.T_set + np.random.uniform(-4, 0)\n",
    "    self.unit = random.choice(range(10)) \n",
    "    self.bedrooms = random.choice(range(5))+1 \n",
    "    self.flow_df = load_demand(bed=self.bedrooms, unit=self.unit)\n",
    "    self.thermogram = np.ones([7,24])*(.5+self.bedrooms*.1)\n",
    "    self.full_charge = self.current_step\n",
    "    self.thermo_hist = deque(np.ones(60*24)/(60*24),maxlen=60*24)\n",
    "    self.cost_hist = deque(np.ones(60*24)*.01,maxlen=60*24)\n",
    "    return self._get_observation()"
   ]
  },
  {
   "cell_type": "code",
   "execution_count": null,
   "metadata": {},
   "outputs": [],
   "source": []
  },
  {
   "cell_type": "code",
   "execution_count": null,
   "metadata": {},
   "outputs": [],
   "source": []
  },
  {
   "cell_type": "code",
   "execution_count": 5,
   "metadata": {},
   "outputs": [],
   "source": [
    "#| hide\n",
    "import nbdev; nbdev.nbdev_export()"
   ]
  },
  {
   "cell_type": "code",
   "execution_count": null,
   "metadata": {},
   "outputs": [],
   "source": []
  },
  {
   "cell_type": "code",
   "execution_count": null,
   "metadata": {},
   "outputs": [],
   "source": []
  }
 ],
 "metadata": {
  "kernelspec": {
   "display_name": "Python 3.10.4 64-bit",
   "language": "python",
   "name": "python3"
  },
  "language_info": {
   "codemirror_mode": {
    "name": "ipython",
    "version": 3
   },
   "file_extension": ".py",
   "mimetype": "text/x-python",
   "name": "python",
   "nbconvert_exporter": "python",
   "pygments_lexer": "ipython3",
   "version": "3.10.4"
  },
  "vscode": {
   "interpreter": {
    "hash": "3ad933181bd8a04b432d3370b9dc3b0662ad032c4dfaa4e4f1596c548f763858"
   }
  }
 },
 "nbformat": 4,
 "nbformat_minor": 4
}
