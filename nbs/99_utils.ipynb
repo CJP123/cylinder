{
 "cells": [
  {
   "attachments": {},
   "cell_type": "markdown",
   "metadata": {},
   "source": [
    "# Utils"
   ]
  },
  {
   "cell_type": "code",
   "execution_count": null,
   "metadata": {},
   "outputs": [],
   "source": [
    "#| default_exp utils"
   ]
  },
  {
   "cell_type": "code",
   "execution_count": null,
   "metadata": {},
   "outputs": [],
   "source": [
    "#| hide\n",
    "from nbdev.showdoc import *"
   ]
  },
  {
   "cell_type": "code",
   "execution_count": null,
   "metadata": {},
   "outputs": [],
   "source": [
    "#| export\n",
    "import pandas as pd\n",
    "import numpy as np\n",
    "import matplotlib.pyplot as plt\n",
    "import matplotlib.dates as mdates\n",
    "from pathlib import Path\n",
    "from datetime import datetime, timedelta\n",
    "from scipy.stats import skew, skewnorm\n",
    "import random\n",
    "import matplotlib.dates as mdates\n",
    "from matplotlib.dates import DateFormatter\n",
    "from matplotlib.patches import Patch\n",
    "from matplotlib.lines import Line2D"
   ]
  },
  {
   "cell_type": "code",
   "execution_count": null,
   "metadata": {},
   "outputs": [],
   "source": [
    "#| export\n",
    "def get_season(date):\n",
    "  month = date.month\n",
    "  if month  >= 3 and month <= 5:\n",
    "    return \"Autumn\"\n",
    "  elif month >= 6 and month <= 8:\n",
    "    return \"Winter\"\n",
    "  elif month >= 9 and month <= 11:\n",
    "    return \"Spring\"\n",
    "  else:\n",
    "    return \"Summer\""
   ]
  },
  {
   "cell_type": "code",
   "execution_count": 1,
   "metadata": {},
   "outputs": [
    {
     "name": "stderr",
     "output_type": "stream",
     "text": [
      "Bad pipe message: %s [b\"\\x9b\\xb4\\xe7\\xf53$\\xb6k\\xbe\\x88\\xc9\\x97\\x1b\\xd4\\x9c\\x82\\x91\\xd5\\x00\\x00|\\xc0,\\xc00\\x00\\xa3\\x00\\x9f\\xcc\\xa9\\xcc\\xa8\\xcc\\xaa\\xc0\\xaf\\xc0\\xad\\xc0\\xa3\\xc0\\x9f\\xc0]\\xc0a\\xc0W\\xc0S\\xc0+\\xc0/\\x00\\xa2\\x00\\x9e\\xc0\\xae\\xc0\\xac\\xc0\\xa2\\xc0\\x9e\\xc0\\\\\\xc0`\\xc0V\\xc0R\\xc0$\\xc0(\\x00k\\x00j\\xc0#\\xc0'\\x00g\\x00@\\xc0\\n\\xc0\\x14\\x009\\x008\\xc0\\t\\xc0\\x13\\x003\\x002\\x00\\x9d\\xc0\\xa1\\xc0\\x9d\\xc0Q\\x00\\x9c\\xc0\\xa0\\xc0\\x9c\\xc0P\\x00=\\x00<\\x005\\x00/\\x00\\x9a\\x00\\x99\\xc0\\x07\\xc0\\x11\\x00\\x96\\x00\\x05\\x00\\xff\\x01\\x00\\x00j\\x00\\x00\\x00\\x0e\\x00\\x0c\\x00\\x00\\t127.0.0.1\\x00\\x0b\\x00\\x04\\x03\\x00\\x01\\x02\\x00\\n\\x00\\x0c\\x00\\n\\x00\\x1d\\x00\\x17\\x00\\x1e\\x00\\x19\\x00\\x18\\x00#\\x00\\x00\\x00\\x16\\x00\\x00\\x00\\x17\\x00\\x00\\x00\\r\\x000\\x00.\\x04\\x03\\x05\\x03\\x06\\x03\\x08\\x07\\x08\\x08\", b'\\x08\\n\\x08\\x0b\\x08\\x04\\x08', b'\\x06\\x04\\x01\\x05']\n",
      "Bad pipe message: %s [b'']\n",
      "Bad pipe message: %s [b'', b'\\x03\\x03']\n",
      "Bad pipe message: %s [b'']\n",
      "Bad pipe message: %s [b'', b'\\x02']\n",
      "Bad pipe message: %s [b'/\\t\\x1c\\xc6gC\\\\\\xc3\\xbeMD\\xea\\xafX\\xddkq\\xab\\x00\\x00>\\xc0\\x14\\xc0\\n\\x009\\x008\\x007\\x006\\xc0\\x0f\\xc0\\x05\\x005\\xc0\\x13\\xc0\\t\\x003\\x002\\x001\\x000\\xc0\\x0e\\xc0\\x04\\x00/\\x00\\x9a\\x00\\x99\\x00\\x98\\x00\\x97\\x00\\x96\\x00\\x07\\xc0\\x11\\xc0\\x07\\xc0\\x0c\\xc0\\x02\\x00\\x05\\x00\\x04\\x00\\xff\\x02\\x01\\x00\\x00C\\x00\\x00\\x00\\x0e\\x00\\x0c\\x00\\x00\\t127.0.0.1\\x00']\n",
      "Bad pipe message: %s [b'\\x05\\x02\\x06']\n",
      "Bad pipe message: %s [b'\\x04\\x03\\x00\\x01\\x02\\x00\\n\\x00\\x1c\\x00']\n",
      "Bad pipe message: %s [b'\\x17\\x00\\x19\\x00\\x1c\\x00\\x1b\\x00\\x18\\x00\\x1a\\x00\\x16\\x00\\x0e\\x00\\r\\x00\\x0b\\x00\\x0c\\x00\\t\\x00\\n']\n",
      "Bad pipe message: %s [b'6\\xe0\\x05\\x05\\xab\\x18\\x8e;v\\x81 o\\xe1}\\x96\\xde#N\\x00\\x00\\xa2\\xc0\\x14\\xc0\\n\\x009\\x008\\x007\\x006\\x00\\x88\\x00\\x87\\x00\\x86\\x00\\x85\\xc0\\x19\\x00:\\x00\\x89\\xc0\\x0f\\xc0\\x05\\x005\\x00\\x84\\xc0\\x13\\xc0\\t\\x003\\x002\\x001\\x000\\x00\\x9a\\x00\\x99\\x00\\x98\\x00\\x97\\x00E\\x00D\\x00C\\x00B\\xc0\\x18\\x004\\x00\\x9b\\x00F\\xc0\\x0e\\xc0\\x04\\x00/\\x00\\x96\\x00A\\x00\\x07\\xc0\\x11\\xc0\\x07\\xc0\\x16\\x00\\x18\\xc0']\n",
      "Bad pipe message: %s [b'\\x02\\x00\\x05\\x00\\x04\\xc0\\x12\\xc0\\x08\\x00\\x16']\n",
      "Bad pipe message: %s [b'Ke\\x92\\x10\\x0e\\xb8/\\xd5\\xaaU\\x8c\\xa0\\xaa?\\xa9\\xc9Q~\\x00\\x00\\xa2\\xc0\\x14\\xc0\\n\\x009\\x008\\x007\\x006\\x00\\x88\\x00\\x87\\x00\\x86\\x00\\x85\\xc0\\x19\\x00:\\x00\\x89\\xc0\\x0f\\xc0\\x05\\x005\\x00\\x84\\xc0\\x13\\xc0\\t\\x003\\x002\\x001\\x000\\x00\\x9a\\x00\\x99\\x00\\x98\\x00']\n",
      "Bad pipe message: %s [b\"e\\x18\\xd9\\x99\\xd4\\x0c\\x82p\\xcbh\\x9f\\xae\\xe3\\x17\\x0e\\xfe\\xef\\xd5\\x00\\x00\\x86\\xc00\\xc0,\\xc0(\\xc0$\\xc0\\x14\\xc0\\n\\x00\\xa5\\x00\\xa3\\x00\\xa1\\x00\\x9f\\x00k\\x00j\\x00i\\x00h\\x009\\x008\\x007\\x006\\xc02\\xc0.\\xc0*\\xc0&\\xc0\\x0f\\xc0\\x05\\x00\\x9d\\x00=\\x005\\xc0/\\xc0+\\xc0'\\xc0#\\xc0\\x13\\xc0\\t\\x00\\xa4\\x00\\xa2\\x00\\xa0\\x00\\x9e\\x00g\\x00@\\x00?\\x00>\\x003\\x002\\x001\\x000\\xc01\\xc0-\\xc0)\\xc0%\\xc0\\x0e\\xc0\\x04\\x00\\x9c\\x00<\\x00/\\x00\\x9a\\x00\\x99\\x00\\x98\\x00\\x97\\x00\\x96\\x00\\x07\\xc0\\x11\\xc0\\x07\\xc0\\x0c\\xc0\\x02\\x00\\x05\\x00\", b'\\xff\\x02\\x01']\n",
      "Bad pipe message: %s [b\"i\\xced\\xf1\\xe9\\xc4d\\xf8+D~CRbG\\x19Q\\x89\\x00\\x00\\xf4\\xc00\\xc0,\\xc0(\\xc0$\\xc0\\x14\\xc0\\n\\x00\\xa5\\x00\\xa3\\x00\\xa1\\x00\\x9f\\x00k\\x00j\\x00i\\x00h\\x009\\x008\\x007\\x006\\x00\\x88\\x00\\x87\\x00\\x86\\x00\\x85\\xc0\\x19\\x00\\xa7\\x00m\\x00:\\x00\\x89\\xc02\\xc0.\\xc0*\\xc0&\\xc0\\x0f\\xc0\\x05\\x00\\x9d\\x00=\\x005\\x00\\x84\\xc0/\\xc0+\\xc0'\\xc0#\\xc0\\x13\\xc0\\t\\x00\\xa4\\x00\\xa2\\x00\\xa0\\x00\\x9e\\x00g\\x00@\\x00?\\x00>\\x003\\x002\\x001\\x000\\x00\\x9a\\x00\\x99\\x00\\x98\\x00\\x97\\x00E\\x00D\\x00C\\x00B\\xc0\\x18\\x00\\xa6\\x00l\\x004\\x00\\x9b\\x00F\\xc01\\xc0-\\xc0)\\xc0%\\xc0\\x0e\\xc0\\x04\\x00\\x9c\\x00<\\x00/\\x00\\x96\\x00A\\x00\\x07\\xc0\\x11\\xc0\\x07\\xc0\\x16\\x00\\x18\\xc0\\x0c\\xc0\\x02\\x00\\x05\\x00\\x04\\xc0\\x12\\xc0\\x08\\x00\\x16\\x00\\x13\\x00\\x10\\x00\\r\\xc0\\x17\\x00\\x1b\\xc0\\r\\xc0\\x03\\x00\\n\\x00\", b'\\x12\\x00\\x0f\\x00\\x0c\\x00\\x1a\\x00\\t\\x00\\x14\\x00\\x11\\x00\\x19\\x00\\x08\\x00\\x06\\x00']\n",
      "Bad pipe message: %s [b'\\x03\\xc0\\x10\\xc0\\x06\\xc0\\x15\\xc0\\x0b\\xc0\\x01\\x00;\\x00\\x02\\x00\\x01\\x00\\xff\\x02\\x01\\x00']\n"
     ]
    }
   ],
   "source": [
    "#| export\n",
    "def series_timestamps(ser):\n",
    "    result = []\n",
    "    start, end = None , None\n",
    "    # Loop through the input list\n",
    "    for row in ser.items():\n",
    "        # If we encounter a 1, update the start and end index if needed\n",
    "        if row[1] == 1:\n",
    "            if start is None:\n",
    "                start = row[0]\n",
    "            end = row[0]\n",
    "        # If we encounter a 0, append the start and end index to the result\n",
    "        # and reset the start and end index\n",
    "        elif row[1] == 0 and start is not None:\n",
    "            result.append((start, end))\n",
    "            start = None\n",
    "            end = None\n",
    "\n",
    "    # If the last element of the input list is a 1, we need to append\n",
    "    # the start and end index to the result one more time\n",
    "    if start is not None:\n",
    "        result.append((start, end))\n",
    "    return result"
   ]
  },
  {
   "cell_type": "code",
   "execution_count": null,
   "metadata": {},
   "outputs": [],
   "source": [
    "#| export\n",
    "def plot_sim(strategy, df):\n",
    "    fig, ax = plt.subplots(nrows=4,figsize=(18,6), sharey=\"row\", gridspec_kw=dict(height_ratios=[.2,.2,.2,3], hspace=0))\n",
    "    i=0\n",
    "    # Plot flow data\n",
    "    im2 = ax[i].imshow(df.energy.values[np.newaxis,:], cmap=\"viridis\", aspect=\"auto\", vmin=0, vmax=18)\n",
    "    ax[i].set_yticks([])\n",
    "    ax[i].set_xticks([])\n",
    "\n",
    "    ax[i].set_ylabel('Energy', rotation=0, fontsize=8)\n",
    "    ax[i].yaxis.set_label_coords(-0.03,.2)\n",
    "    i=1\n",
    "    # Plot flow data\n",
    "    ax[i].imshow(df.flow.values[np.newaxis,:], cmap=\"Reds\", aspect=\"auto\")\n",
    "    ax[i].set_yticks([])\n",
    "    ax[i].set_xticks([])\n",
    "\n",
    "    ax[i].set_ylabel('Flow', rotation=0, fontsize=8)\n",
    "    ax[i].yaxis.set_label_coords(-0.03,.2)\n",
    "    \n",
    "    i=2\n",
    "     # Plot flow data\n",
    "    im = ax[i].imshow(df.cost.values[np.newaxis,:], cmap=\"jet\", aspect=\"auto\")\n",
    "    ax[i].set_yticks([])\n",
    "    ax[i].set_xticks([])\n",
    "    ax[i].set_ylabel('Cost', rotation=0, fontsize=8)\n",
    "    ax[i].yaxis.set_label_coords(-0.03,.2)\n",
    "\n",
    "\n",
    "\n",
    "    # add title\n",
    "    title = f'Simulation:'+ strategy['name'] + '\\n' +\\\n",
    "            'mode : ' + strategy['operation'] + ' | ' +\\\n",
    "            'bedrooms : ' + str(strategy['bedrooms']) + '\\n' +\\\n",
    "            'element : ' + str(strategy['element']) + 'kW | ' +\\\n",
    "            'ripple : ' + str(strategy['ripple'])\n",
    "    i=3\n",
    "    # ax.plot(df.action*1)\n",
    "    for j in range(2):\n",
    "        ax[i].plot(df[f'T{j}'], label=f'T{j}')\n",
    "    ax[i].set_ylim(50,83)\n",
    "    # ax[0].set_title('Temperature')\n",
    "    ax[i].set_ylabel('°C', rotation=90)\n",
    "    ax[i].margins(x=0, y=0)\n",
    "    ax[i].axhline(y=55, color='k', linestyle='--', alpha = .5)\n",
    "\n",
    "    # if strategy['Tset_H'] != strategy['Tset_L']:\n",
    "    #     ax[i].axhspan(strategy['Tset_H']-2, strategy['Tset_H'],0,.1,  color='mistyrose', alpha=0.4) # wants power but ripple control is on\n",
    "    #     ax[i].annotate('Upper Thermostat', xy=(0, 0.75), xycoords='axes fraction',  xytext=(5, 0), textcoords='offset points', ha=\"left\", va=\"top\", fontsize=8)\n",
    "\n",
    "\n",
    "    # ax[i].axhspan(strategy['Tset_L']-2, strategy['Tset_L'],0,.1,  color='powderblue', alpha=0.4) # wants power but ripple control is on\n",
    "\n",
    "    for k in series_timestamps((df.thermostat_base == 1)&(df.ripple_control)&(strategy['ripple'])): ax[i].axvspan(k[0], k[1], 0.08, .13, color='red', alpha=0.5, hatch ='\\\\', ec='black') # wants power but ripple control is on\n",
    "    for k in series_timestamps((df.thermostat_base == 1)&(df.ripple_control)&(~strategy['ripple'])): ax[i].axvspan(k[0], k[1], 0.08, .13, color='blue', alpha=0.5) # wants power but ripple control is on\n",
    "    for k in series_timestamps((df.thermostat_base == 1)&(df.ripple_control)&(~strategy['ripple'])): ax[i].axvspan(k[0], k[1], 0.08, .13, color='blue', alpha=0.5) # wants power but ripple control is on\n",
    "    for k in series_timestamps((df.thermostat_base == 1)&(~df.ripple_control)): ax[i].axvspan(k[0], k[1], 0.08, .13, color='green', alpha=0.5)\n",
    "    for k in series_timestamps((df.action == 1)&(df.thermostat_high == 1)&(~strategy['ripple'])&(df.thermostat_base == 0)): ax[i].axvspan(k[0], k[1],  0.08, .13,color='cyan', alpha=0.5)\n",
    "    \n",
    "    \n",
    "    operation_legend = [Patch(facecolor='red', hatch ='\\\\', ec='black', alpha=0.5 , label='Demand / No Power'),\n",
    "                      Patch(facecolor='blue', alpha=0.5 ,  label='Operation during Ripple Control'),\n",
    "                      Patch(facecolor='cyan', alpha=0.5 ,  label='Boost Operation'),\n",
    "                      Patch(facecolor='green', alpha=0.5 ,   label='Base Operation')]\n",
    "\n",
    "    ax[i].axhline(y=55, color='k', linestyle='--', alpha = .5)\n",
    "\n",
    "    for k in series_timestamps((df.ripple_control)): ax[i].axvspan(k[0], k[1], 0, .05, color='red', alpha=0.5) # wants power but ripple control is on\n",
    "    for k in series_timestamps((df.peak)): ax[i].axvspan(k[0], k[1], 0, .05, fc='none',hatch ='xx', ec='grey') # wants power but ripple control is on\n",
    "    for k in series_timestamps((~df.ripple_control)): ax[i].axvspan(k[0], k[1], 0, .05, color='green', alpha=0.5) # wants power but ripple control is on\n",
    "    network_legend = [Patch(facecolor='red', alpha=0.5 , label='Ripple Control'),\n",
    "                      Patch(facecolor='green', alpha=0.5 ,  label='Normal Operation'),\n",
    "                      Patch(facecolor='none', hatch='xx', ec='grey', label='Peak Demand')]\n",
    "\n",
    "\n",
    "    legend1 = plt.legend(handles = network_legend,loc='upper center',title=\"Electricity Network\", bbox_to_anchor=(0.2, -0.12), fancybox=True, shadow=False, ncol=3)\n",
    "    legend2 = plt.legend(handles = operation_legend,loc='upper center',title=\"Operation\", bbox_to_anchor=(0.7,-.12), fancybox=True, shadow=False, ncol=4)\n",
    "\n",
    "    ax[i].add_artist(legend1)\n",
    "    ax[i].add_artist(legend2)\n",
    "\n",
    "    # add a colorbar for the price to the right of the plot\n",
    "    fig.subplots_adjust(right=0.9)\n",
    "    cbar_ax = fig.add_axes([0.92, 0.1, 0.02, 0.8])\n",
    "    fig.colorbar(im, cax=cbar_ax)\n",
    "    cbar_ax.set_ylabel('Price [$/kWh]', rotation=90, labelpad=5, fontsize=6)\n",
    "    cbar_ax.yaxis.set_label_position('right')\n",
    "    cbar_ax.yaxis.set_ticks_position('left')\n",
    "    cbar_ax.yaxis.set_tick_params(pad=5)\n",
    "    # cbar_ax.set_ylim(0, 0.2)\n",
    "    cbar1_ax = fig.add_axes([0.97, 0.1, 0.02, 0.8])\n",
    "    fig.colorbar(im2, cax=cbar1_ax)\n",
    "    cbar1_ax.set_ylabel('kWh', rotation=90, labelpad=5, fontsize=6)\n",
    "    cbar1_ax.yaxis.set_label_position('right')\n",
    "    cbar1_ax.yaxis.set_ticks_position('left')\n",
    "    cbar1_ax.yaxis.set_tick_params(pad=5)\n",
    "    \n",
    "    date_form = DateFormatter('%d %b\\n %H:%M')\n",
    "    ax[-1].xaxis.set_major_formatter(date_form)\n",
    "    cbar_ax.yaxis.set_tick_params(labelsize=6)\n",
    "    cbar1_ax.yaxis.set_tick_params(labelsize=6)\n",
    "    ax[i].annotate('network', xy=(0, 0), xycoords='axes fraction',  xytext=(5, 10), textcoords='offset points', ha=\"left\", va=\"top\", fontsize=8)\n",
    "    ax[i].annotate('operation', xy=(0, 0), xycoords='axes fraction',  xytext=(5, 28), textcoords='offset points', ha=\"left\", va=\"top\", fontsize=8)\n",
    "    # add some whitespace to the bottom of the plot\n",
    "    fig.subplots_adjust(bottom=0.25)\n",
    "    fig.suptitle(title)\n",
    "    return "
   ]
  },
  {
   "cell_type": "code",
   "execution_count": null,
   "metadata": {},
   "outputs": [],
   "source": [
    "#| hide\n",
    "import nbdev; nbdev.nbdev_export()"
   ]
  },
  {
   "cell_type": "code",
   "execution_count": null,
   "metadata": {},
   "outputs": [],
   "source": []
  }
 ],
 "metadata": {
  "kernelspec": {
   "display_name": "Python 3",
   "language": "python",
   "name": "python3"
  },
  "language_info": {
   "codemirror_mode": {
    "name": "ipython",
    "version": 3
   },
   "file_extension": ".py",
   "mimetype": "text/x-python",
   "name": "python",
   "nbconvert_exporter": "python",
   "pygments_lexer": "ipython3",
   "version": "3.10.4"
  },
  "vscode": {
   "interpreter": {
    "hash": "3ad933181bd8a04b432d3370b9dc3b0662ad032c4dfaa4e4f1596c548f763858"
   }
  }
 },
 "nbformat": 4,
 "nbformat_minor": 4
}
