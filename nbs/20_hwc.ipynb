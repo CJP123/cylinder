{
 "cells": [
  {
   "cell_type": "raw",
   "metadata": {},
   "source": [
    "---\n",
    "description: Simple (fast to run) model of a mixed hot water cylinder\n",
    "output-file: hwc.html\n",
    "title: Basic Mixed Hot Water Cylinder\n",
    "\n",
    "---"
   ]
  },
  {
   "cell_type": "code",
   "execution_count": null,
   "metadata": {},
   "outputs": [],
   "source": [
    "#| default_exp hwc"
   ]
  },
  {
   "cell_type": "code",
   "execution_count": null,
   "metadata": {},
   "outputs": [],
   "source": [
    "#| hide\n",
    "from nbdev.showdoc import *"
   ]
  },
  {
   "cell_type": "code",
   "execution_count": null,
   "metadata": {},
   "outputs": [],
   "source": [
    "#| export\n",
    "from fastcore.utils import *\n",
    "import pandas as pd\n",
    "from cylinder.demand import load_demand\n",
    "from cylinder.power import load_power\n",
    "import matplotlib.pyplot as plt\n",
    "import random\n",
    "from collections import deque\n",
    "import numpy as np"
   ]
  },
  {
   "cell_type": "markdown",
   "metadata": {},
   "source": [
    "Establish a basic class of hot water cylinder that can be used to model a mixed hot water cylinder. The model is based on the following assumptions:\n",
    "\n",
    "$C_v\\rho V \\frac{dT(t)}{dt} = C_v\\rho F(t)[T_{in} - T(t)]+Q(t)-UA\\text{[T(t)-}T_{atm}]$"
   ]
  },
  {
   "cell_type": "code",
   "execution_count": null,
   "metadata": {},
   "outputs": [],
   "source": [
    "#| export\n",
    "class HWC():\n",
    "  \"\"\"\n",
    "  Simple mixed model for a hot water cylinder\n",
    "  \"\"\"\n",
    "  # Define constants for clearer code\n",
    "  def __init__(self,\n",
    "              element = 3000, # Watts\n",
    "              T_set = 65, # °C\n",
    "              T_deadband = 2, # °C\n",
    "              radius =.25,  # Meters\n",
    "              height = 1, # Meters\n",
    "              unit=None,  # Unit of measure for volume\n",
    "              bedrooms=None,\n",
    "              id = None):\n",
    "    super(HWC, self).__init__()\n",
    "\n",
    "    self.T_ambient = 15 #  Air temperature that the cylinder located in °C\n",
    "    self.T_cold = 15 # Make up water temperature °C\n",
    "    self.T_demand = 45 #T_demand - temperature of the end use (shower)  °C\n",
    "    self.T_deadband = T_deadband #T_deadband  - thermostat deadband °C\n",
    "    self.T_set = T_set #T_set - thermostat set point °C\n",
    "    self.U = 0.5/60/1000 # heat transfer coefficient kJ/min m2K\n",
    "    self.Cv = 4.184 \n",
    "    self.rho = 1000 \n",
    "    self.Area = 2*np.pi*radius*(radius+height)\n",
    "    self.Volume = np.pi*radius**2*height\n",
    "    self.Q = element/1000\n",
    "    self.thermostat = False\n",
    "    self.bedrooms = bedrooms\n",
    "    self.id = id\n",
    "    self.reset()"
   ]
  },
  {
   "cell_type": "markdown",
   "metadata": {},
   "source": [
    "Provide a mechanisim to set the thermostat state based on the model temperature"
   ]
  },
  {
   "cell_type": "code",
   "execution_count": null,
   "metadata": {},
   "outputs": [],
   "source": [
    "#| export\n",
    "@patch\n",
    "def _thermostat(self:HWC):\n",
    "    if (self.T < self.T_set- self.T_deadband) :\n",
    "        self.thermostat = 1\n",
    "    elif (self.T > self.T_set) :\n",
    "        self.thermostat = 0\n",
    "    return"
   ]
  },
  {
   "cell_type": "markdown",
   "metadata": {},
   "source": [
    "Update the model temperature based on the thermostat state / flow / heat loss"
   ]
  },
  {
   "cell_type": "code",
   "execution_count": null,
   "metadata": {},
   "outputs": [],
   "source": [
    "#| export\n",
    "@patch\n",
    "def _update_temperatures(self:HWC, action = 1, ts = 60):\n",
    "    '''\n",
    "    Use the model from M Jack Paper to update the hwc temperature\n",
    "    Takes existing state (temperature)\n",
    "    '''\n",
    "    temperature = self.T # existing temperatue\n",
    "    temperature += self.flow/self.Volume*(self.T_cold-self.T) * ts # change in temperature due to flow mixing\n",
    "    temperature += action * self.thermostat *  self.Q / (self.Cv*self.rho*self.Volume) * ts # change in temperature due to element\n",
    "    temperature += self.U * self.Area * (self.T_ambient-self.T) * ts # change in temperature due to heat loss\n",
    "    return temperature"
   ]
  },
  {
   "cell_type": "markdown",
   "metadata": {},
   "source": [
    "Provide some initialisation functions to set the model up with some default values"
   ]
  },
  {
   "cell_type": "code",
   "execution_count": null,
   "metadata": {},
   "outputs": [],
   "source": [
    "#| export\n",
    "@patch\n",
    "def reset(self:HWC):\n",
    "    self.T = self.T_set + np.random.uniform(-4, 0)\n",
    "    self.thermostat = 0\n",
    "    multiplier = 2 if self.bedrooms is None else self.bedrooms\n",
    "    self.thermogram = np.ones([7,24])*(.5+multiplier*.1)"
   ]
  },
  {
   "cell_type": "code",
   "execution_count": null,
   "metadata": {},
   "outputs": [],
   "source": [
    "#| hide\n",
    "import nbdev; nbdev.nbdev_export()"
   ]
  }
 ],
 "metadata": {
  "kernelspec": {
   "display_name": "Python 3.10.4 64-bit",
   "language": "python",
   "name": "python3"
  }
 },
 "nbformat": 4,
 "nbformat_minor": 4
}
